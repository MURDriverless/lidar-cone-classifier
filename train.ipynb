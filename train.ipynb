{
 "cells": [
  {
   "cell_type": "markdown",
   "metadata": {},
   "source": [
    "# LiDAR Cone Classifier\n",
    "\n",
    "This notebook will be used to train a basic image classifier that can distinguish between yellow traffic cones and blue traffic cones through the extracted LiDAR image crops.\n",
    "\n",
    "* `train.ipynb`\n",
    "* `data/` where all the intensity image crops are stored\n",
    "\n",
    "The collected data are stored in:\n",
    "```\n",
    "data/blue\n",
    "data/yellow\n",
    "```"
   ]
  },
  {
   "cell_type": "code",
   "execution_count": 1,
   "metadata": {},
   "outputs": [],
   "source": [
    "from __future__ import print_function, division\n",
    "\n",
    "import os\n",
    "import random\n",
    "\n",
    "import torch\n",
    "import torchvision\n",
    "import PIL\n",
    "\n",
    "from imgaug import augmenters as iaa\n",
    "import imgaug as ia\n",
    "\n",
    "import numpy as np\n",
    "import matplotlib.pyplot as plt\n",
    "\n",
    "from torch.utils import data\n",
    "from torchvision import transforms, utils, datasets\n",
    "from torch.utils.data import DataLoader"
   ]
  },
  {
   "cell_type": "code",
   "execution_count": 2,
   "metadata": {},
   "outputs": [
    {
     "data": {
      "text/plain": [
       "'TITAN Xp'"
      ]
     },
     "execution_count": 2,
     "metadata": {},
     "output_type": "execute_result"
    }
   ],
   "source": [
    "use_cuda = torch.cuda.is_available()\n",
    "device = torch.device(\"cuda:0\" if use_cuda else \"cpu\")\n",
    "torch.backends.cudnn.benchmark = True\n",
    "\n",
    "# see the device we are using\n",
    "torch.cuda.get_device_name(0)"
   ]
  },
  {
   "cell_type": "markdown",
   "metadata": {},
   "source": [
    "Load up dataset and define data augmentations.\n",
    "\n",
    "Use third-party `ImgAug` library for more extensive image augmentation."
   ]
  },
  {
   "cell_type": "code",
   "execution_count": 3,
   "metadata": {},
   "outputs": [],
   "source": [
    "class ImgAugTransform:\n",
    "    def __init__(self):\n",
    "        self.aug = iaa.Sequential([\n",
    "            iaa.Grayscale(),\n",
    "            iaa.Sometimes(0.25, iaa.GaussianBlur(sigma=(0, 3.0))),\n",
    "            iaa.Fliplr(0.5),\n",
    "            iaa.Affine(rotate=(-20, 20), mode='symmetric'),\n",
    "            iaa.Sometimes(0.25,\n",
    "                          iaa.OneOf([iaa.Dropout(p=(0, 0.1)),\n",
    "                                     iaa.CoarseDropout(0.1, size_percent=0.5)])),\n",
    "            iaa.AddToHueAndSaturation(value=(-10, 10), per_channel=True)\n",
    "        ])\n",
    "      \n",
    "    def __call__(self, img):\n",
    "        img = np.array(img)\n",
    "        return self.aug.augment_image(img)\n"
   ]
  },
  {
   "cell_type": "code",
   "execution_count": 4,
   "metadata": {},
   "outputs": [],
   "source": [
    "lidar_dataset = datasets.ImageFolder(\n",
    "    root = 'data', \n",
    "    transform = transforms.Compose([\n",
    "        ImgAugTransform(),\n",
    "        lambda x: PIL.Image.fromarray(x),\n",
    "        transforms.Grayscale(),\n",
    "        transforms.RandomHorizontalFlip(),\n",
    "        transforms.ToTensor()\n",
    "    ])\n",
    ")\n",
    "\n",
    "lidar_loader = DataLoader(lidar_dataset, batch_size = 8, shuffle = True)"
   ]
  },
  {
   "cell_type": "code",
   "execution_count": 5,
   "metadata": {},
   "outputs": [],
   "source": [
    "def imshow(img):\n",
    "    '''Utility function to show the loaded images'''\n",
    "    npimg = img.numpy()\n",
    "    plt.figure(figsize=(16,2))\n",
    "    plt.imshow( np.transpose(npimg, (1, 2, 0)) )\n",
    "    plt.show()\n",
    "    \n",
    "def imshow2(img):\n",
    "    '''\n",
    "    Utility function to show the loaded images\n",
    "    This version does not transpose the channels.\n",
    "    '''\n",
    "    npimg = img.numpy()\n",
    "    plt.figure(figsize=(16,2))\n",
    "    plt.imshow(npimg)\n",
    "    plt.show()"
   ]
  },
  {
   "cell_type": "code",
   "execution_count": 6,
   "metadata": {},
   "outputs": [],
   "source": [
    "classes = lidar_dataset.classes"
   ]
  },
  {
   "cell_type": "code",
   "execution_count": 7,
   "metadata": {},
   "outputs": [],
   "source": [
    "dataiter = iter(lidar_loader)\n",
    "images, labels = dataiter.next()"
   ]
  },
  {
   "cell_type": "markdown",
   "metadata": {},
   "source": [
    "Recall that `label=0` is blue and `label=1` is yellow.\n",
    "\n",
    "Let's have a look at some random training images and their corresponding labels."
   ]
  },
  {
   "cell_type": "code",
   "execution_count": 8,
   "metadata": {},
   "outputs": [
    {
     "data": {
      "text/plain": [
       "torch.Size([8, 1, 32, 32])"
      ]
     },
     "execution_count": 8,
     "metadata": {},
     "output_type": "execute_result"
    }
   ],
   "source": [
    "images.shape"
   ]
  },
  {
   "cell_type": "code",
   "execution_count": 9,
   "metadata": {},
   "outputs": [
    {
     "data": {
      "text/plain": [
       "torch.Size([1, 32, 32])"
      ]
     },
     "execution_count": 9,
     "metadata": {},
     "output_type": "execute_result"
    }
   ],
   "source": [
    "images[0].shape"
   ]
  },
  {
   "cell_type": "code",
   "execution_count": 10,
   "metadata": {},
   "outputs": [
    {
     "data": {
      "image/png": "[encoded data removed]",
      "text/plain": [
       "<Figure size 1152x144 with 1 Axes>"
      ]
     },
     "metadata": {
      "needs_background": "light"
     },
     "output_type": "display_data"
    }
   ],
   "source": [
    "imshow(images[0])"
   ]
  },
  {
   "cell_type": "code",
   "execution_count": 11,
   "metadata": {},
   "outputs": [
    {
     "data": {
      "image/png": "[encoded data removed]",
      "text/plain": [
       "<Figure size 1152x144 with 1 Axes>"
      ]
     },
     "metadata": {
      "needs_background": "light"
     },
     "output_type": "display_data"
    }
   ],
   "source": [
    "imshow(utils.make_grid(images))"
   ]
  },
  {
   "cell_type": "code",
   "execution_count": 12,
   "metadata": {
    "scrolled": true
   },
   "outputs": [
    {
     "data": {
      "text/plain": [
       "tensor([1, 1, 1, 1, 1, 1, 0, 0])"
      ]
     },
     "execution_count": 12,
     "metadata": {},
     "output_type": "execute_result"
    }
   ],
   "source": [
    "labels"
   ]
  },
  {
   "cell_type": "code",
   "execution_count": 13,
   "metadata": {},
   "outputs": [
    {
     "name": "stdout",
     "output_type": "stream",
     "text": [
      "  yellow   yellow   yellow   yellow   yellow   yellow     blue     blue\n"
     ]
    }
   ],
   "source": [
    "print(' '.join('%8s' % classes[labels[j]] for j in range(8)))"
   ]
  },
  {
   "cell_type": "markdown",
   "metadata": {},
   "source": [
    "## Split Dataset\n",
    "\n",
    "The loaded dataset will be randomly split into `train, valid, test`."
   ]
  },
  {
   "cell_type": "code",
   "execution_count": 14,
   "metadata": {},
   "outputs": [],
   "source": [
    "def data_split(dataset, split_ratio=0.1):\n",
    "    '''\n",
    "    Utility function to split an existing dataset\n",
    "    into train, valid, test sets.\n",
    "    \n",
    "    Args:\n",
    "        split_ratio (float): proportion of the valid/test set\n",
    "    Returns:\n",
    "        tuple of subset: corresponding train, valid, test sets\n",
    "    '''\n",
    "    n = len(dataset)\n",
    "    n_test = int( n * 0.1 ) # proportion of elements for test/val\n",
    "    n_train = n - 2 * n_test\n",
    "\n",
    "    idx = list(range(n)) # indices to all the elements\n",
    "    random.shuffle(idx) # in-place shuffle the indices\n",
    "\n",
    "    train_idx = idx[:n_train]\n",
    "    val_idx   = idx[n_train:(n_train + n_test)]\n",
    "    test_idx  = idx[(n_train + n_test):]\n",
    "\n",
    "    train_set = data.Subset(dataset, train_idx)\n",
    "    val_set   = data.Subset(dataset, val_idx)\n",
    "    test_set  = data.Subset(dataset, test_idx)\n",
    "    \n",
    "    return train_set, val_set, test_set"
   ]
  },
  {
   "cell_type": "code",
   "execution_count": 15,
   "metadata": {},
   "outputs": [],
   "source": [
    "train_set, valid_set, test_set = data_split(lidar_dataset, split_ratio=0.1)"
   ]
  },
  {
   "cell_type": "markdown",
   "metadata": {},
   "source": [
    "Construct the corresponding dataloaders for `train, valid, test`."
   ]
  },
  {
   "cell_type": "code",
   "execution_count": 16,
   "metadata": {},
   "outputs": [],
   "source": [
    "trainloader = DataLoader(train_set, batch_size=8, shuffle=True, num_workers=2)\n",
    "validloader = DataLoader(valid_set, batch_size=8, shuffle=True, num_workers=2)\n",
    "testloader  = DataLoader(test_set,  batch_size=8, shuffle=True, num_workers=2)"
   ]
  },
  {
   "cell_type": "code",
   "execution_count": 17,
   "metadata": {
    "scrolled": false
   },
   "outputs": [
    {
     "data": {
      "image/png": "[encoded data removed]",
      "text/plain": [
       "<Figure size 1152x144 with 1 Axes>"
      ]
     },
     "metadata": {
      "needs_background": "light"
     },
     "output_type": "display_data"
    }
   ],
   "source": [
    "# get some random training images (sanity check for trainloader)\n",
    "dataiter = iter(trainloader)\n",
    "images, labels = dataiter.next()\n",
    "\n",
    "imshow(utils.make_grid(images))"
   ]
  },
  {
   "cell_type": "code",
   "execution_count": 18,
   "metadata": {},
   "outputs": [
    {
     "data": {
      "text/plain": [
       "tensor([1, 1, 0, 0, 0, 0, 0, 0])"
      ]
     },
     "execution_count": 18,
     "metadata": {},
     "output_type": "execute_result"
    }
   ],
   "source": [
    "labels"
   ]
  },
  {
   "cell_type": "markdown",
   "metadata": {},
   "source": [
    "## Define a Convolutional Neural Network"
   ]
  },
  {
   "cell_type": "code",
   "execution_count": 19,
   "metadata": {
    "scrolled": true
   },
   "outputs": [
    {
     "name": "stdout",
     "output_type": "stream",
     "text": [
      "Net(\n",
      "  (conv1): Conv2d(1, 10, kernel_size=(3, 3), stride=(1, 1))\n",
      "  (conv1_bn): BatchNorm2d(10, eps=1e-05, momentum=0.1, affine=True, track_running_stats=True)\n",
      "  (conv1_do): Dropout(p=0.5, inplace=False)\n",
      "  (conv2): Conv2d(10, 20, kernel_size=(3, 3), stride=(1, 1))\n",
      "  (conv2_bn): BatchNorm2d(20, eps=1e-05, momentum=0.1, affine=True, track_running_stats=True)\n",
      "  (conv2_do): Dropout(p=0.5, inplace=False)\n",
      "  (mp): MaxPool2d(kernel_size=2, stride=2, padding=0, dilation=1, ceil_mode=False)\n",
      "  (fc): Linear(in_features=720, out_features=2, bias=True)\n",
      ")\n"
     ]
    }
   ],
   "source": [
    "import torch.nn as nn\n",
    "import torch.nn.functional as F\n",
    "\n",
    "# apply conv/fc > batchnorm > relu > maxpool > dropout > (next conv)\n",
    "\n",
    "class Net(nn.Module):\n",
    "    \n",
    "    def __init__(self, p=0.0):\n",
    "        super(Net, self).__init__()\n",
    "        \n",
    "        self.conv1 = nn.Conv2d(in_channels=1, out_channels=10, kernel_size=3)\n",
    "        self.conv1_bn = nn.BatchNorm2d(num_features=10)\n",
    "        self.conv1_do = nn.Dropout(p=p)\n",
    "        \n",
    "        self.conv2 = nn.Conv2d(10, 20, 3)\n",
    "        self.conv2_bn = nn.BatchNorm2d(num_features=20)\n",
    "        self.conv2_do = nn.Dropout(p=p)\n",
    "        \n",
    "        self.mp = nn.MaxPool2d(2)\n",
    "        self.fc = nn.Linear(720, 2)\n",
    "    \n",
    "    def forward(self, x):\n",
    "        in_size = x.size(0)\n",
    "        \n",
    "        x = self.conv1_do( F.relu( self.mp( self.conv1_bn( self.conv1(x) ) ) ) )\n",
    "        x = self.conv2_do( F.relu( self.mp( self.conv2_bn( self.conv2(x) ) ) ) )\n",
    "        \n",
    "        #x = F.relu(self.mp(self.conv1(x)))\n",
    "        #x = F.relu(self.mp(self.conv2(x)))\n",
    "        \n",
    "        x = x.view(in_size, -1) # flatten tensor\n",
    "        x = self.fc(x)\n",
    "        return F.log_softmax(x, dim=1)\n",
    "    \n",
    "net = Net(p=0.5)\n",
    "\n",
    "net.to(device)\n",
    "print(net)"
   ]
  },
  {
   "cell_type": "code",
   "execution_count": 20,
   "metadata": {},
   "outputs": [],
   "source": [
    "test_input = torch.randn(1, 1, 32, 32).to(device)\n",
    "out = net(test_input)"
   ]
  },
  {
   "cell_type": "code",
   "execution_count": 21,
   "metadata": {},
   "outputs": [
    {
     "data": {
      "text/plain": [
       "torch.Size([1, 2])"
      ]
     },
     "execution_count": 21,
     "metadata": {},
     "output_type": "execute_result"
    }
   ],
   "source": [
    "out.shape"
   ]
  },
  {
   "cell_type": "code",
   "execution_count": 22,
   "metadata": {},
   "outputs": [
    {
     "data": {
      "text/plain": [
       "tensor([[-0.6570, -0.7307]], device='cuda:0', grad_fn=<LogSoftmaxBackward>)"
      ]
     },
     "execution_count": 22,
     "metadata": {},
     "output_type": "execute_result"
    }
   ],
   "source": [
    "out"
   ]
  },
  {
   "cell_type": "markdown",
   "metadata": {},
   "source": [
    "## Define loss function and optimizer"
   ]
  },
  {
   "cell_type": "code",
   "execution_count": 23,
   "metadata": {},
   "outputs": [],
   "source": [
    "import torch.optim as optim\n",
    "\n",
    "criterion = nn.CrossEntropyLoss()\n",
    "optimizer = optim.SGD(net.parameters(), lr=0.001, momentum=0.9)"
   ]
  },
  {
   "cell_type": "markdown",
   "metadata": {},
   "source": [
    "## Train the network"
   ]
  },
  {
   "cell_type": "code",
   "execution_count": 24,
   "metadata": {},
   "outputs": [
    {
     "name": "stdout",
     "output_type": "stream",
     "text": [
      "[1,    20] loss: 0.614\n",
      "[1,    40] loss: 0.182\n",
      "[1,    60] loss: 0.155\n",
      "[1,    80] loss: 0.177\n",
      "[1,   100] loss: 0.081\n",
      "[2,    20] loss: 0.066\n",
      "[2,    40] loss: 0.063\n",
      "[2,    60] loss: 0.034\n",
      "[2,    80] loss: 0.022\n",
      "[2,   100] loss: 0.051\n",
      "[3,    20] loss: 0.023\n",
      "[3,    40] loss: 0.038\n",
      "[3,    60] loss: 0.067\n",
      "[3,    80] loss: 0.033\n",
      "[3,   100] loss: 0.027\n",
      "[4,    20] loss: 0.022\n",
      "[4,    40] loss: 0.027\n",
      "[4,    60] loss: 0.023\n",
      "[4,    80] loss: 0.045\n",
      "[4,   100] loss: 0.038\n",
      "[5,    20] loss: 0.049\n",
      "[5,    40] loss: 0.021\n",
      "[5,    60] loss: 0.012\n",
      "[5,    80] loss: 0.013\n",
      "[5,   100] loss: 0.019\n",
      "[6,    20] loss: 0.012\n",
      "[6,    40] loss: 0.007\n",
      "[6,    60] loss: 0.009\n",
      "[6,    80] loss: 0.023\n",
      "[6,   100] loss: 0.009\n",
      "[7,    20] loss: 0.005\n",
      "[7,    40] loss: 0.024\n",
      "[7,    60] loss: 0.023\n",
      "[7,    80] loss: 0.005\n",
      "[7,   100] loss: 0.016\n",
      "[8,    20] loss: 0.015\n",
      "[8,    40] loss: 0.009\n",
      "[8,    60] loss: 0.010\n",
      "[8,    80] loss: 0.014\n",
      "[8,   100] loss: 0.008\n",
      "[9,    20] loss: 0.007\n",
      "[9,    40] loss: 0.027\n",
      "[9,    60] loss: 0.013\n",
      "[9,    80] loss: 0.031\n",
      "[9,   100] loss: 0.005\n",
      "[10,    20] loss: 0.006\n",
      "[10,    40] loss: 0.012\n",
      "[10,    60] loss: 0.014\n",
      "[10,    80] loss: 0.003\n",
      "[10,   100] loss: 0.019\n",
      "Finished Training\n"
     ]
    }
   ],
   "source": [
    "for epoch in range(10):\n",
    "    \n",
    "    running_loss = 0.0\n",
    "    for i, data in enumerate(trainloader, 0):\n",
    "        inputs, labels = data[0].to(device), data[1].to(device)\n",
    "        \n",
    "        # zero parameter gradients\n",
    "        optimizer.zero_grad()\n",
    "        \n",
    "        # forward + backward + optimize\n",
    "        outputs = net(inputs)\n",
    "        loss = criterion(outputs, labels)\n",
    "        loss.backward()\n",
    "        optimizer.step()\n",
    "        \n",
    "        # print stats\n",
    "        running_loss += loss.item()\n",
    "        if i % 20 == 19: ## print every 20 mini-batches\n",
    "            print('[%d, %5d] loss: %.3f' %\n",
    "                  (epoch + 1, i + 1, running_loss / 20))\n",
    "            running_loss = 0.0\n",
    "\n",
    "print('Finished Training')"
   ]
  },
  {
   "cell_type": "markdown",
   "metadata": {},
   "source": [
    "## Save trained network\n",
    "\n",
    "First save network as a `state_dict`."
   ]
  },
  {
   "cell_type": "code",
   "execution_count": 25,
   "metadata": {},
   "outputs": [],
   "source": [
    "PATH = './lidar_net.pth'\n",
    "torch.save(net.state_dict(), PATH)"
   ]
  },
  {
   "cell_type": "markdown",
   "metadata": {},
   "source": [
    "Then save network in `ONNX` format.\n",
    "\n",
    "Before, we save state dict from GPU, and now we load it onto CPU."
   ]
  },
  {
   "cell_type": "code",
   "execution_count": 26,
   "metadata": {},
   "outputs": [
    {
     "data": {
      "text/plain": [
       "Net(\n",
       "  (conv1): Conv2d(1, 10, kernel_size=(3, 3), stride=(1, 1))\n",
       "  (conv1_bn): BatchNorm2d(10, eps=1e-05, momentum=0.1, affine=True, track_running_stats=True)\n",
       "  (conv1_do): Dropout(p=0.0, inplace=False)\n",
       "  (conv2): Conv2d(10, 20, kernel_size=(3, 3), stride=(1, 1))\n",
       "  (conv2_bn): BatchNorm2d(20, eps=1e-05, momentum=0.1, affine=True, track_running_stats=True)\n",
       "  (conv2_do): Dropout(p=0.0, inplace=False)\n",
       "  (mp): MaxPool2d(kernel_size=2, stride=2, padding=0, dilation=1, ceil_mode=False)\n",
       "  (fc): Linear(in_features=720, out_features=2, bias=True)\n",
       ")"
      ]
     },
     "execution_count": 26,
     "metadata": {},
     "output_type": "execute_result"
    }
   ],
   "source": [
    "device = torch.device('cpu')\n",
    "\n",
    "net = Net(p=0.0)\n",
    "net.load_state_dict(torch.load(PATH, map_location=device))\n",
    "net.eval()"
   ]
  },
  {
   "cell_type": "code",
   "execution_count": 27,
   "metadata": {
    "scrolled": false
   },
   "outputs": [
    {
     "name": "stdout",
     "output_type": "stream",
     "text": [
      "graph(%actual_input_1 : Float(10, 1, 32, 32),\n",
      "      %conv1.weight : Float(10, 1, 3, 3),\n",
      "      %conv1.bias : Float(10),\n",
      "      %conv1_bn.weight : Float(10),\n",
      "      %conv1_bn.bias : Float(10),\n",
      "      %conv1_bn.running_mean : Float(10),\n",
      "      %conv1_bn.running_var : Float(10),\n",
      "      %conv2.weight : Float(20, 10, 3, 3),\n",
      "      %conv2.bias : Float(20),\n",
      "      %conv2_bn.weight : Float(20),\n",
      "      %conv2_bn.bias : Float(20),\n",
      "      %conv2_bn.running_mean : Float(20),\n",
      "      %conv2_bn.running_var : Float(20),\n",
      "      %fc.weight : Float(2, 720),\n",
      "      %fc.bias : Float(2),\n",
      "      %35 : Long(1)):\n",
      "  %17 : Tensor = onnx::Shape(%actual_input_1)\n",
      "  %18 : Tensor = onnx::Constant[value={0}]()\n",
      "  %19 : Long() = onnx::Gather[axis=0](%17, %18) # <ipython-input-19-7a9c0fb94217>:23:0\n",
      "  %20 : Float(10, 10, 30, 30) = onnx::Conv[dilations=[1, 1], group=1, kernel_shape=[3, 3], pads=[0, 0, 0, 0], strides=[1, 1]](%actual_input_1, %conv1.weight, %conv1.bias) # /home/steven/anaconda3/envs/pytorch_env/lib/python3.8/site-packages/torch/nn/modules/conv.py:349:0\n",
      "  %21 : Float(10, 10, 30, 30) = onnx::BatchNormalization[epsilon=1.0000000000000001e-05, momentum=0.90000000000000002](%20, %conv1_bn.weight, %conv1_bn.bias, %conv1_bn.running_mean, %conv1_bn.running_var) # /home/steven/anaconda3/envs/pytorch_env/lib/python3.8/site-packages/torch/nn/functional.py:1921:0\n",
      "  %22 : Float(10, 10, 15, 15) = onnx::MaxPool[ceil_mode=0, kernel_shape=[2, 2], pads=[0, 0, 0, 0], strides=[2, 2]](%21) # /home/steven/anaconda3/envs/pytorch_env/lib/python3.8/site-packages/torch/nn/functional.py:538:0\n",
      "  %23 : Float(10, 10, 15, 15) = onnx::Relu(%22) # /home/steven/anaconda3/envs/pytorch_env/lib/python3.8/site-packages/torch/nn/functional.py:936:0\n",
      "  %24 : Float(10, 20, 13, 13) = onnx::Conv[dilations=[1, 1], group=1, kernel_shape=[3, 3], pads=[0, 0, 0, 0], strides=[1, 1]](%23, %conv2.weight, %conv2.bias) # /home/steven/anaconda3/envs/pytorch_env/lib/python3.8/site-packages/torch/nn/modules/conv.py:349:0\n",
      "  %25 : Float(10, 20, 13, 13) = onnx::BatchNormalization[epsilon=1.0000000000000001e-05, momentum=0.90000000000000002](%24, %conv2_bn.weight, %conv2_bn.bias, %conv2_bn.running_mean, %conv2_bn.running_var) # /home/steven/anaconda3/envs/pytorch_env/lib/python3.8/site-packages/torch/nn/functional.py:1921:0\n",
      "  %26 : Float(10, 20, 6, 6) = onnx::MaxPool[ceil_mode=0, kernel_shape=[2, 2], pads=[0, 0, 0, 0], strides=[2, 2]](%25) # /home/steven/anaconda3/envs/pytorch_env/lib/python3.8/site-packages/torch/nn/functional.py:538:0\n",
      "  %27 : Float(10, 20, 6, 6) = onnx::Relu(%26) # /home/steven/anaconda3/envs/pytorch_env/lib/python3.8/site-packages/torch/nn/functional.py:936:0\n",
      "  %29 : Tensor = onnx::Unsqueeze[axes=[0]](%19)\n",
      "  %31 : Tensor = onnx::Concat[axis=0](%29, %35)\n",
      "  %32 : Float(10, 720) = onnx::Reshape(%27, %31) # <ipython-input-19-7a9c0fb94217>:31:0\n",
      "  %33 : Float(10, 2) = onnx::Gemm[alpha=1., beta=1., transB=1](%32, %fc.weight, %fc.bias) # /home/steven/anaconda3/envs/pytorch_env/lib/python3.8/site-packages/torch/nn/functional.py:1610:0\n",
      "  %output1 : Float(10, 2) = onnx::LogSoftmax[axis=1](%33) # /home/steven/anaconda3/envs/pytorch_env/lib/python3.8/site-packages/torch/nn/functional.py:1535:0\n",
      "  return (%output1)\n",
      "\n",
      "{'actual_input_1': {0: 'batch_size'}, 'output1': {0: 'batch_size'}}\n",
      "graph(%actual_input_1 : Float(10, 1, 32, 32),\n",
      "      %conv1.weight : Float(10, 1, 3, 3),\n",
      "      %conv1.bias : Float(10),\n",
      "      %conv1_bn.weight : Float(10),\n",
      "      %conv1_bn.bias : Float(10),\n",
      "      %conv1_bn.running_mean : Float(10),\n",
      "      %conv1_bn.running_var : Float(10),\n",
      "      %conv2.weight : Float(20, 10, 3, 3),\n",
      "      %conv2.bias : Float(20),\n",
      "      %conv2_bn.weight : Float(20),\n",
      "      %conv2_bn.bias : Float(20),\n",
      "      %conv2_bn.running_mean : Float(20),\n",
      "      %conv2_bn.running_var : Float(20),\n",
      "      %fc.weight : Float(2, 720),\n",
      "      %fc.bias : Float(2),\n",
      "      %35 : Long(1)):\n",
      "  %17 : Tensor = onnx::Shape(%actual_input_1)\n",
      "  %18 : Tensor = onnx::Constant[value={0}]()\n",
      "  %19 : Long() = onnx::Gather[axis=0](%17, %18) # <ipython-input-19-7a9c0fb94217>:23:0\n",
      "  %20 : Float(10, 10, 30, 30) = onnx::Conv[dilations=[1, 1], group=1, kernel_shape=[3, 3], pads=[0, 0, 0, 0], strides=[1, 1]](%actual_input_1, %conv1.weight, %conv1.bias) # /home/steven/anaconda3/envs/pytorch_env/lib/python3.8/site-packages/torch/nn/modules/conv.py:349:0\n",
      "  %21 : Float(10, 10, 30, 30) = onnx::BatchNormalization[epsilon=1.0000000000000001e-05, momentum=0.90000000000000002](%20, %conv1_bn.weight, %conv1_bn.bias, %conv1_bn.running_mean, %conv1_bn.running_var) # /home/steven/anaconda3/envs/pytorch_env/lib/python3.8/site-packages/torch/nn/functional.py:1921:0\n",
      "  %22 : Float(10, 10, 15, 15) = onnx::MaxPool[ceil_mode=0, kernel_shape=[2, 2], pads=[0, 0, 0, 0], strides=[2, 2]](%21) # /home/steven/anaconda3/envs/pytorch_env/lib/python3.8/site-packages/torch/nn/functional.py:538:0\n",
      "  %23 : Float(10, 10, 15, 15) = onnx::Relu(%22) # /home/steven/anaconda3/envs/pytorch_env/lib/python3.8/site-packages/torch/nn/functional.py:936:0\n",
      "  %24 : Float(10, 20, 13, 13) = onnx::Conv[dilations=[1, 1], group=1, kernel_shape=[3, 3], pads=[0, 0, 0, 0], strides=[1, 1]](%23, %conv2.weight, %conv2.bias) # /home/steven/anaconda3/envs/pytorch_env/lib/python3.8/site-packages/torch/nn/modules/conv.py:349:0\n",
      "  %25 : Float(10, 20, 13, 13) = onnx::BatchNormalization[epsilon=1.0000000000000001e-05, momentum=0.90000000000000002](%24, %conv2_bn.weight, %conv2_bn.bias, %conv2_bn.running_mean, %conv2_bn.running_var) # /home/steven/anaconda3/envs/pytorch_env/lib/python3.8/site-packages/torch/nn/functional.py:1921:0\n",
      "  %26 : Float(10, 20, 6, 6) = onnx::MaxPool[ceil_mode=0, kernel_shape=[2, 2], pads=[0, 0, 0, 0], strides=[2, 2]](%25) # /home/steven/anaconda3/envs/pytorch_env/lib/python3.8/site-packages/torch/nn/functional.py:538:0\n",
      "  %27 : Float(10, 20, 6, 6) = onnx::Relu(%26) # /home/steven/anaconda3/envs/pytorch_env/lib/python3.8/site-packages/torch/nn/functional.py:936:0\n",
      "  %29 : Tensor = onnx::Unsqueeze[axes=[0]](%19)\n",
      "  %31 : Tensor = onnx::Concat[axis=0](%29, %35)\n",
      "  %32 : Float(10, 720) = onnx::Reshape(%27, %31) # <ipython-input-19-7a9c0fb94217>:31:0\n",
      "  %33 : Float(10, 2) = onnx::Gemm[alpha=1., beta=1., transB=1](%32, %fc.weight, %fc.bias) # /home/steven/anaconda3/envs/pytorch_env/lib/python3.8/site-packages/torch/nn/functional.py:1610:0\n",
      "  %output1 : Float(10, 2) = onnx::LogSoftmax[axis=1](%33) # /home/steven/anaconda3/envs/pytorch_env/lib/python3.8/site-packages/torch/nn/functional.py:1535:0\n",
      "  return (%output1)\n",
      "\n"
     ]
    }
   ],
   "source": [
    "dummy_input = torch.randn(10, 1, 32, 32, device=device)\n",
    "\n",
    "input_names = [ \"actual_input_1\" ]\n",
    "output_names = [ \"output1\" ]\n",
    "\n",
    "onnx_name = 'lidar_cone_classifier.onnx'\n",
    "onnx_name_dyn = 'lidar_cone_classifier_dyn.onnx'\n",
    "opset = 11\n",
    "\n",
    "# Fixed shape\n",
    "torch.onnx.export(net, dummy_input, onnx_name, verbose=True,\n",
    "                 opset_version=opset, input_names=input_names, output_names=output_names)\n",
    "\n",
    "# Dynamic shape\n",
    "dynamic_axes = {\"actual_input_1\":{0:\"batch_size\"}, \"output1\":{0:\"batch_size\"}}\n",
    "print(dynamic_axes)\n",
    "torch.onnx.export(net, dummy_input, onnx_name_dyn, verbose=True,\n",
    "    opset_version=opset, input_names=input_names, output_names=output_names,\n",
    "    dynamic_axes=dynamic_axes)"
   ]
  },
  {
   "cell_type": "markdown",
   "metadata": {},
   "source": [
    "## Test network on test data"
   ]
  },
  {
   "cell_type": "code",
   "execution_count": 28,
   "metadata": {},
   "outputs": [
    {
     "data": {
      "image/png": "[encoded data removed]",
      "text/plain": [
       "<Figure size 1152x144 with 1 Axes>"
      ]
     },
     "metadata": {
      "needs_background": "light"
     },
     "output_type": "display_data"
    },
    {
     "name": "stdout",
     "output_type": "stream",
     "text": [
      "Ground truth:    yellow   yellow     blue     blue     blue     blue   yellow   yellow\n"
     ]
    }
   ],
   "source": [
    "dataiter = iter(testloader)\n",
    "images, labels = dataiter.next()\n",
    "\n",
    "# visualise the images\n",
    "imshow(utils.make_grid(images))\n",
    "print('Ground truth: ', ' '.join('%8s' % classes[labels[j]] for j in range(8)))"
   ]
  },
  {
   "cell_type": "code",
   "execution_count": 29,
   "metadata": {},
   "outputs": [
    {
     "data": {
      "text/plain": [
       "<All keys matched successfully>"
      ]
     },
     "execution_count": 29,
     "metadata": {},
     "output_type": "execute_result"
    }
   ],
   "source": [
    "net = Net()\n",
    "\n",
    "net.eval()\n",
    "\n",
    "net.load_state_dict(torch.load(PATH))"
   ]
  },
  {
   "cell_type": "code",
   "execution_count": 30,
   "metadata": {},
   "outputs": [
    {
     "name": "stdout",
     "output_type": "stream",
     "text": [
      "Predicted:    yellow   yellow     blue     blue     blue     blue   yellow   yellow\n"
     ]
    }
   ],
   "source": [
    "outputs = net(images)\n",
    "_, predicted = torch.max(outputs, 1)\n",
    "\n",
    "print('Predicted: ', ' '.join('%8s' % classes[predicted[j]] for j in range(8)))"
   ]
  },
  {
   "cell_type": "markdown",
   "metadata": {},
   "source": [
    "Let us see how the network performs on the whole test set."
   ]
  },
  {
   "cell_type": "code",
   "execution_count": 31,
   "metadata": {},
   "outputs": [
    {
     "name": "stdout",
     "output_type": "stream",
     "text": [
      "Accuracy of the network on the 107 test images: 100 %\n"
     ]
    }
   ],
   "source": [
    "correct = 0\n",
    "total = 0\n",
    "\n",
    "with torch.no_grad():\n",
    "    for data in testloader:\n",
    "        images, labels = data\n",
    "        outputs = net(images)\n",
    "        _, predicted = torch.max(outputs.data, 1)\n",
    "        total += labels.size(0)\n",
    "        correct += (predicted == labels).sum().item()\n",
    "\n",
    "print('Accuracy of the network on the %d test images: %d %%' % (\n",
    "    len(test_set),\n",
    "    100 * correct / total))"
   ]
  },
  {
   "cell_type": "markdown",
   "metadata": {},
   "source": [
    "Let us see what worked well, and what did not work well."
   ]
  },
  {
   "cell_type": "code",
   "execution_count": 32,
   "metadata": {},
   "outputs": [
    {
     "name": "stdout",
     "output_type": "stream",
     "text": [
      "Accuracy of  blue : 100 %\n",
      "Accuracy of yellow : 100 %\n"
     ]
    }
   ],
   "source": [
    "class_correct = list(0. for i in range(2))\n",
    "class_total = list(0. for i in range(2))\n",
    "\n",
    "with torch.no_grad():\n",
    "    for data in testloader:\n",
    "        images, labels = data\n",
    "        outputs = net(images)\n",
    "        _, predicted = torch.max(outputs, 1)\n",
    "        c = (predicted == labels).squeeze()\n",
    "        \n",
    "        for i in range(len(labels)):\n",
    "            label = labels[i]\n",
    "            class_correct[label] += c[i].item()\n",
    "            class_total[label] += 1\n",
    "\n",
    "\n",
    "for i in range(2):\n",
    "    print('Accuracy of %5s : %2d %%' % (\n",
    "        classes[i], 100 * class_correct[i] / class_total[i]))"
   ]
  },
  {
   "cell_type": "code",
   "execution_count": null,
   "metadata": {},
   "outputs": [],
   "source": []
  },
  {
   "cell_type": "code",
   "execution_count": null,
   "metadata": {},
   "outputs": [],
   "source": []
  },
  {
   "cell_type": "code",
   "execution_count": null,
   "metadata": {},
   "outputs": [],
   "source": []
  }
 ],
 "metadata": {
  "kernelspec": {
   "display_name": "Python (pytorch_env)",
   "language": "python",
   "name": "pytorch_end"
  },
  "language_info": {
   "codemirror_mode": {
    "name": "ipython",
    "version": 3
   },
   "file_extension": ".py",
   "mimetype": "text/x-python",
   "name": "python",
   "nbconvert_exporter": "python",
   "pygments_lexer": "ipython3",
   "version": "3.8.5"
  }
 },
 "nbformat": 4,
 "nbformat_minor": 4
}
